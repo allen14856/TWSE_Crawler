{
 "cells": [
  {
   "cell_type": "code",
   "execution_count": null,
   "metadata": {
    "collapsed": false
   },
   "outputs": [],
   "source": [
    "from bs4 import BeautifulSoup\n",
    "import requests\n",
    "import json\n",
    "import time\n",
    "import pandas as pd\n"
   ]
  },
  {
   "cell_type": "code",
   "execution_count": null,
   "metadata": {
    "collapsed": true
   },
   "outputs": [],
   "source": [
    "def get_type_code(r):\n",
    "    res = r.content\n",
    "    soup = BeautifulSoup(res, 'html.parser')\n",
    "    typeks = [[x['value'],x.string] for x in soup.select('select[name=\"TYPEK\"] > option')]\n",
    "    codes = [[x['value'],x.string] for x in soup.select('select[name=\"code\"] > option') if x.string]\n",
    "    return typeks, codes"
   ]
  },
  {
   "cell_type": "code",
   "execution_count": null,
   "metadata": {
    "collapsed": false
   },
   "outputs": [],
   "source": [
    "def get_payload(typek, code):\n",
    "    payload = {'encodeURIComponent':'1',\n",
    "          'step':'1',\n",
    "          'firstin':'1',\n",
    "          'TYPEK':typek,\n",
    "          'code':code}\n",
    "    return payload"
   ]
  },
  {
   "cell_type": "code",
   "execution_count": null,
   "metadata": {
    "collapsed": true
   },
   "outputs": [],
   "source": [
    "def get_table(s, url, payload):\n",
    "\n",
    "    # use payload \n",
    "    response = s.post(url,data=payload)\n",
    "    res = response.content\n",
    "    soup = BeautifulSoup(res, 'html.parser')\n",
    "    table = soup.find(id='table01')\n",
    "    return table"
   ]
  },
  {
   "cell_type": "code",
   "execution_count": null,
   "metadata": {
    "collapsed": false
   },
   "outputs": [],
   "source": [
    "def get_df(table):\n",
    "    raws = table.find_all('table')[1].find_all('tr')\n",
    "    # get the header \n",
    "    header = raws[0].find_all('th')\n",
    "    header_of_table = [x.get_text() for x in header]\n",
    "    # get the cell\n",
    "    list_of_talbe=[]\n",
    "    for raw in raws:\n",
    "        r =  [x.get_text() for x in raw.find_all('td')]\n",
    "        if len(r) > 0:\n",
    "            list_of_talbe.append(r)\n",
    "            \n",
    "    df = pd.DataFrame(list_of_talbe,columns=header_of_table)\n",
    "    return df"
   ]
  },
  {
   "cell_type": "code",
   "execution_count": null,
   "metadata": {
    "collapsed": true
   },
   "outputs": [],
   "source": []
  },
  {
   "cell_type": "code",
   "execution_count": null,
   "metadata": {
    "collapsed": false
   },
   "outputs": [],
   "source": [
    "# get the session\n",
    "url='http://mops.twse.com.tw/mops/web/t51sb01'\n",
    "s = requests.Session()\n",
    "r = s.get(url)\n",
    "typeks, codes = get_type_code(r)\n",
    "\n"
   ]
  },
  {
   "cell_type": "code",
   "execution_count": null,
   "metadata": {
    "collapsed": false
   },
   "outputs": [],
   "source": [
    "#typeks = [[u'sii', u'\\u4e0a\\u5e02']]\n",
    "#codes = [[u'01', u'\\u6c34\\u6ce5\\u5de5\\u696d']]\n",
    "\n",
    "if r.ok:\n",
    "    for typek in typeks:\n",
    "        for code in codes: \n",
    "            try:\n",
    "                payload = get_payload(typek[0], code[0])\n",
    "                print payload\n",
    "                table = get_table(s, url, payload)\n",
    "                df = get_df(table)\n",
    "                df.to_excel('../data/twse_%s_%s.xlsx' % (typek[1], code[1]), index = False,encoding='UTF-8')\n",
    "            except:\n",
    "                print('%s, %s faild' % (typek[1], code[1]))\n",
    "            time.sleep(10)"
   ]
  },
  {
   "cell_type": "code",
   "execution_count": null,
   "metadata": {
    "collapsed": true
   },
   "outputs": [],
   "source": []
  }
 ],
 "metadata": {
  "kernelspec": {
   "display_name": "Python 2",
   "language": "python",
   "name": "python2"
  },
  "language_info": {
   "codemirror_mode": {
    "name": "ipython",
    "version": 2
   },
   "file_extension": ".py",
   "mimetype": "text/x-python",
   "name": "python",
   "nbconvert_exporter": "python",
   "pygments_lexer": "ipython2",
   "version": "2.7.11"
  }
 },
 "nbformat": 4,
 "nbformat_minor": 0
}
